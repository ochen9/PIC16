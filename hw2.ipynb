{
 "cells": [
  {
   "cell_type": "code",
   "execution_count": 46,
   "metadata": {},
   "outputs": [
    {
     "name": "stdout",
     "output_type": "stream",
     "text": [
      "1.00003051804\n",
      "-1\n",
      "1.5641107899e-06\n",
      "3.31180213264e-05\n"
     ]
    }
   ],
   "source": [
    "import math \n",
    "\n",
    "def solve (f, guess, tolerance):\n",
    "    x = guess\n",
    "    \n",
    "    if abs(f(x)[0])== 0:\n",
    "        return x\n",
    "    while  abs(f(x)[0]) > tolerance:\n",
    "        if f(x)[1]==0:\n",
    "            print \"Undefined!!\"\n",
    "            break\n",
    "        x= x-f(x)[0]*1.0/f(x)[1]\n",
    "    return x        \n",
    "        \n",
    "#print solve(lambda x: [x**2-1, 2*x], 3, 0.0001)\n",
    "#print solve(lambda x: [x**2-1, 2*x], -1, 0.0001)\n",
    "#print solve(lambda x: [math.exp(x)-1, math.exp(x)], 1, 0.0001)\n",
    "#print solve(lambda x: [math.sin(x), math.cos(x)], 0.5, 0.0001)"
   ]
  },
  {
   "cell_type": "code",
   "execution_count": 20,
   "metadata": {},
   "outputs": [],
   "source": []
  },
  {
   "cell_type": "code",
   "execution_count": null,
   "metadata": {},
   "outputs": [],
   "source": []
  },
  {
   "cell_type": "code",
   "execution_count": null,
   "metadata": {},
   "outputs": [],
   "source": []
  },
  {
   "cell_type": "code",
   "execution_count": null,
   "metadata": {},
   "outputs": [],
   "source": []
  }
 ],
 "metadata": {
  "kernelspec": {
   "display_name": "Python 2",
   "language": "python",
   "name": "python2"
  },
  "language_info": {
   "codemirror_mode": {
    "name": "ipython",
    "version": 2
   },
   "file_extension": ".py",
   "mimetype": "text/x-python",
   "name": "python",
   "nbconvert_exporter": "python",
   "pygments_lexer": "ipython2",
   "version": "2.7.15"
  }
 },
 "nbformat": 4,
 "nbformat_minor": 2
}
