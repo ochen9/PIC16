{
 "cells": [
  {
   "cell_type": "code",
   "execution_count": 2,
   "metadata": {},
   "outputs": [
    {
     "name": "stdout",
     "output_type": "stream",
     "text": [
      "sdf\n",
      "type: list\n"
     ]
    }
   ],
   "source": [
    "#problem 1\n",
    "import re\n",
    "def mytype(v):\n",
    "    v = str(v)\n",
    "    if re.match(r'[a-zA-Z]+', v):  #string\n",
    "        print ('type: string')\n",
    "    elif re.match(r'^\\[[\\d\\,\\.\\s]*\\]$', v): #list\n",
    "        print ('type: list')\n",
    "    elif re.match(r'.*\\..*', v): #float\n",
    "        print ('type: float')\n",
    "    else:\n",
    "        print ('type: int')\n",
    "        \n",
    "\n",
    "#mytype([12,12,123,12.3123,2]) \n",
    "#mytype('hello')\n",
    "#mytype('12.42')\n",
    "#mytype('13')"
   ]
  },
  {
   "cell_type": "code",
   "execution_count": 2,
   "metadata": {},
   "outputs": [
    {
     "data": {
      "text/plain": [
       "['july', 'lecture1']"
      ]
     },
     "execution_count": 2,
     "metadata": {},
     "output_type": "execute_result"
    }
   ],
   "source": [
    "#problem 2\n",
    "def findpdfs(L):\n",
    "    names=[]\n",
    "    for i in L:\n",
    "        if re.findall(r'\\.pdf', i):\n",
    "            names.append(i[:-4])\n",
    "    return names\n",
    "\n",
    "\n",
    "#L = [\"olivia.py\",\"july.pdf\", \"lecture1.pdf\"]\n",
    "#findpdfs(L)\n"
   ]
  },
  {
   "cell_type": "code",
   "execution_count": 10,
   "metadata": {},
   "outputs": [
    {
     "data": {
      "text/plain": [
       "['MIKEL@math.ucla.edu']"
      ]
     },
     "execution_count": 10,
     "metadata": {},
     "output_type": "execute_result"
    }
   ],
   "source": [
    "#problem 3\n",
    "import urllib2\n",
    "#link ='http://www.math.ucla.edu/~mikel/teaching/pic10b/'\n",
    "#link = 'https://wp.nyu.edu/suzy_ahn/'\n",
    "\n",
    "def findemail(link):\n",
    "    url = urllib2.urlopen(link).read()\n",
    "    url = str(url)\n",
    "    \n",
    "    match = re.findall(r'((\\w+)(?:(?:(?:\\sAT\\s)|(?:\\[AT\\])|(?:\\[at\\])|(?:\\sat\\s))|[@])(?:\\w+(?:(?:[.]|(?:\\sDOT\\s))|(?:\\[dot\\])|(?:\\[DOT\\])|(?:\\sdot\\s)))+\\w+)',url)\n",
    "    emails = []\n",
    "    if match:\n",
    "        for address in match:\n",
    "            emails.append(address[0].replace(\"[AT]\",\"@\").replace(\"[at]\",\"@\").replace(\"[DOT]\",\".\").replace(\"[dot]\",\".\").replace(\" at \",\"@\").replace(\" dot \",\".\").replace(\" DOT \",\".\").replace(\" AT \",\"@\"))\n",
    "    emails = list(set(emails))\n",
    "    return emails\n",
    "\n",
    "findemail(link)\n"
   ]
  },
  {
   "cell_type": "code",
   "execution_count": 4,
   "metadata": {},
   "outputs": [
    {
     "name": "stdout",
     "output_type": "stream",
     "text": [
      "Enter text: hello there happy\n",
      "hello 7\n",
      "there 5.1\n",
      "happy 8.3\n",
      "('Happiness score: ', 6.8)\n"
     ]
    }
   ],
   "source": [
    "#problem 4\n",
    "\n",
    "import happiness_dictionary as hd\n",
    "#line = raw_input('Enter text: ')\n",
    "\n",
    "def happiness(text):\n",
    "    score=0\n",
    "    totalwords=0\n",
    "\n",
    "    word=text.split()\n",
    "    for i in word:\n",
    "        i=i.lower()\n",
    "\n",
    "        if i in hd.happiness_dictionary:\n",
    "            totalwords+=1\n",
    "            print i,hd.happiness_dictionary[i]\n",
    "            score+=hd.happiness_dictionary[i]\n",
    "    \n",
    "    average = score/totalwords\n",
    "    print('Happiness score: ',average) \n",
    "\n",
    "#happiness(line)"
   ]
  },
  {
   "cell_type": "code",
   "execution_count": null,
   "metadata": {},
   "outputs": [],
   "source": []
  },
  {
   "cell_type": "code",
   "execution_count": null,
   "metadata": {},
   "outputs": [],
   "source": []
  }
 ],
 "metadata": {
  "kernelspec": {
   "display_name": "Python 2",
   "language": "python",
   "name": "python2"
  },
  "language_info": {
   "codemirror_mode": {
    "name": "ipython",
    "version": 2
   },
   "file_extension": ".py",
   "mimetype": "text/x-python",
   "name": "python",
   "nbconvert_exporter": "python",
   "pygments_lexer": "ipython2",
   "version": "2.7.15"
  }
 },
 "nbformat": 4,
 "nbformat_minor": 2
}
