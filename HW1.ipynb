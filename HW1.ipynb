{
 "cells": [
  {
   "cell_type": "code",
   "execution_count": 4,
   "metadata": {},
   "outputs": [
    {
     "data": {
      "text/plain": [
       "[1, 1, 1, 1, 1, -1, -1]"
      ]
     },
     "execution_count": 4,
     "metadata": {},
     "output_type": "execute_result"
    }
   ],
   "source": [
    "\n",
    "\n",
    "def largerIndex(c):\n",
    "    k=[]\n",
    "    for i in range(len(c)):\n",
    "        if c[i]>i:\n",
    "            k.append(1)\n",
    "        if c[i]==i:\n",
    "            k.append(0)\n",
    "        if c[i]<i:\n",
    "            k.append(-1)\n",
    "    return k\n",
    "\n",
    "\n",
    "#largerIndex([13,2,4,234,25,1,3])"
   ]
  },
  {
   "cell_type": "code",
   "execution_count": 5,
   "metadata": {},
   "outputs": [
    {
     "data": {
      "text/plain": [
       "[0, 1, 4, 9]"
      ]
     },
     "execution_count": 5,
     "metadata": {},
     "output_type": "execute_result"
    }
   ],
   "source": [
    "import math\n",
    "def squareUpTo(n):\n",
    "    squares=[]\n",
    "    for i in range(n+1):\n",
    "        sr=math.sqrt(i)\n",
    "        if sr-math.floor(sr)==0:\n",
    "            squares.append(i)\n",
    "    return squares\n",
    "\n",
    "#squareUpTo(10)"
   ]
  },
  {
   "cell_type": "code",
   "execution_count": null,
   "metadata": {},
   "outputs": [],
   "source": [
    "import random\n",
    "def flip1in3(): #returns either 0 or 1\n",
    "    h_or_t=0\n",
    "    while true: \n",
    "        random_num=random.randint(0,1) #random number either 0 or 1\n",
    "        if ((h_or_t)==0 and random_num==0) or (head==1 and random_num==1):\n",
    "            return random_num"
   ]
  },
  {
   "cell_type": "code",
   "execution_count": 6,
   "metadata": {},
   "outputs": [
    {
     "data": {
      "text/plain": [
       "[13, 2]"
      ]
     },
     "execution_count": 6,
     "metadata": {},
     "output_type": "execute_result"
    }
   ],
   "source": [
    "def duplicates(c):\n",
    "    n=len(c)\n",
    "    x=[]\n",
    "    for i in range (n):\n",
    "        for j in range (i+1,n):\n",
    "            if c[i]==c[j] and c[i] not in x:\n",
    "                x.append(c[i])\n",
    "    return x\n",
    "\n",
    "#duplicates([13,1,13,13,2,223,2])"
   ]
  },
  {
   "cell_type": "code",
   "execution_count": null,
   "metadata": {},
   "outputs": [],
   "source": [
    "def longestpath(d):\n",
    "    longest=0\n",
    "    for i in d: #for i, value in d.iteritems: this loop iterates the number of keys in d\n",
    "        val=i\n",
    "        count=0\n",
    "        while (val in d):\n",
    "            val=d[val]\n",
    "            count=count+1\n",
    "            if (count>longest):\n",
    "                longest=count\n",
    "    return longest\n",
    "\n"
   ]
  }
 ],
 "metadata": {
  "kernelspec": {
   "display_name": "Python 2",
   "language": "python",
   "name": "python2"
  },
  "language_info": {
   "codemirror_mode": {
    "name": "ipython",
    "version": 2
   },
   "file_extension": ".py",
   "mimetype": "text/x-python",
   "name": "python",
   "nbconvert_exporter": "python",
   "pygments_lexer": "ipython2",
   "version": "2.7.15"
  }
 },
 "nbformat": 4,
 "nbformat_minor": 2
}
